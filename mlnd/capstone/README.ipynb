{
 "cells": [
  {
   "cell_type": "markdown",
   "metadata": {},
   "source": [
    "# README\n",
    "\n",
    "## Files\n",
    "proposal.ipynb : main implementation file\n",
    "\n",
    "proposal.pdf   : main report\n",
    "\n",
    "accurate.PNG   : image used in report to show accuracy comparison \n",
    "\n",
    "cnndistribution.PNG : image used in report to show cnn weights and biases\n",
    "\n",
    "cnnhist.PNG : image used in report to show cnn weights distribution\n",
    "\n",
    "data.csv : input data for project\n",
    "\n",
    "entropy-hist.PNG : entropy distribution\n",
    "\n",
    "graph-cnn-net.png : cnn graph implementation\n",
    "\n",
    "graph-rnn-net.png : rnn graph implementation\n",
    "\n",
    "graph-simple-net.png : simple net graph implementation\n",
    "\n",
    "header.csv : input data header\n",
    "\n",
    "hidden-hist.PNG : hidden layer distribution for all net\n",
    "\n",
    "hidden1-distribution.PNG : hidden layer distribution for simple net\n",
    "\n",
    "learningrate.PNG : learning rate plot\n",
    "\n",
    "loss.PNG: loss plot for all models\n",
    "\n",
    "reqids.csv : part of input data for classification of data\n",
    "\n",
    "xentropy-distribution.PNG : entropy distribution for all models\n",
    "\n",
    "## References\n",
    "https://github.com/tensorflow/tensorflow\n",
    "http://pandas.pydata.org/\n",
    "http://www.numpy.org/https://www.tensorflow.org/versions/r0.10/tutorials/mnist/tf/\n",
    "http://scikit-learn.org/stable/\n",
    "https://github.com/udacity/CarND-LeNet-Lab/blob/master/LeNet-Lab-Solution.ipynb\n",
    "http://colah.github.io/posts/2015-08-Understanding-LSTMs/\n",
    "https://www.tensorflow.org/versions/r0.10/tutorials/mnist/tf/\n",
    "https://arxiv.org/abs/1409.2329\n",
    "https://arxiv.org/abs/1409.3215\n",
    "https://arxiv.org/pdf/1603.07285v1.pdf\n",
    "http://neuralnetworksanddeeplearning.com/\n",
    "http://deeplearning.net/tutorial/"
   ]
  }
 ],
 "metadata": {
  "kernelspec": {
   "display_name": "Python [conda root]",
   "language": "python",
   "name": "conda-root-py"
  },
  "language_info": {
   "codemirror_mode": {
    "name": "ipython",
    "version": 3
   },
   "file_extension": ".py",
   "mimetype": "text/x-python",
   "name": "python",
   "nbconvert_exporter": "python",
   "pygments_lexer": "ipython3",
   "version": "3.5.2"
  }
 },
 "nbformat": 4,
 "nbformat_minor": 2
}

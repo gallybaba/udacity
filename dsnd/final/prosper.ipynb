{
 "cells": [
  {
   "cell_type": "markdown",
   "metadata": {},
   "source": [
    "# DataAnalyst Nanodegree Final Project\n",
    "\n",
    "__ Data Visualization of Prosper Loan Data using Tableau__\n",
    "\n",
    "__*Karun Gahlawat*__\n"
   ]
  },
  {
   "cell_type": "markdown",
   "metadata": {},
   "source": [
    "## Summary\n",
    "Visualize Prosper Loan data (attached) using Tableau 10.4. Explore data and ask questions as we explore. Create a set of findings and then combine all the findings to create a story to explain the findings. "
   ]
  },
  {
   "cell_type": "markdown",
   "metadata": {},
   "source": [
    "## Design\n",
    "\n",
    "To visualize data we need to first understand the data, variable names, and how they could link to each other intuitively. Once done, we would plot these data individually and with some other relevant factors with the goal to show inter factor behavior. Next step would be to start asking questions towards the end goal of understanding the dataset. Questions like how some variables interact with others and how that interaction changes data behavior. Also along the lines of how the end result was effected by these variables. Next step would be to combine these findings (answers to these questions) into a story. Once we have a story, we would need to show this presentation to other people to get feedback. Once feedback is gathered, we need to make changes to our story or its presentation based on that feedback. Finally wrap it up with final version of our data exploration and its findings and by then hopefully we would have answered all kinds of questions that were brought up during this process.\n",
    "\n",
    "Leave something else to do at the end in terms of how to improve data and visualization to make it more useful for any academic and / or commercial use\n",
    "\n",
    "[Here is the workbook ](https://public.tableau.com/profile/karun.gahlawat#!/vizhome/prosper_2/ProsperLoans)\n"
   ]
  },
  {
   "cell_type": "markdown",
   "metadata": {},
   "source": [
    "### Some important variables\n"
   ]
  },
  {
   "cell_type": "markdown",
   "metadata": {},
   "source": [
    "### Questions as we explore\n",
    "   1. How does initial number look? Some measures.\n",
    "      * Sheet InitialNumbers\n",
    "   1. How do measures span out against term, length of loans in month?\n",
    "      * Sheet Term\n",
    "   1. What is count of loans against loanstatus. Various values of loan status could be Cancelled, Chargedoff, Completed, Current, Defaulted, FinalPaymentInProgress, PastDue\n",
    "      * Sheet Term\n",
    "   1. How does loanstatus map against borrowers' apr? against term?\n",
    "      * Sheet BorrowersAPR\n",
    "   1. What is the distribution of lender's yield? how does it correlate with loan status and term?\n",
    "      * Sheet LendersYield\n",
    "   1. What is the estimated loss, filtered on loans after july 2009\n",
    "      * Sheet EstimatedLoss\n",
    "   1. What is the estimated return, filtered on loans after july 2009\n",
    "      * Sheet EstimatedLoss\n",
    "   1. Could we map estimated loss and estimated return with loan status?\n",
    "      * Sheet EstimatedLoss\n",
    "   1. How does prosperscore map against loan status?\n",
    "      * Sheet ProsperScore\n",
    "   1. Count of loans against listing category, how do they map with loan status\n",
    "      * Sheet ListingCategory\n",
    "   1. Loans by state?\n",
    "      * Sheet State\n",
    "   1. Various of occupations? How do they map against loan status?\n",
    "      * Sheet Occupation\n",
    "   1. Simple stats on credit lines and open revolving accounts with inquiries and inquiries in last 6 months and bankcardutilization\n",
    "      * Sheet Credit\n",
    "   1. Debt to income ratios of borrowers and loan status\n",
    "      * Sheet Credit\n",
    "   1. Number of investors that funded the loans. What is the distribution? Did this effect loan status? How does income in these buckets span out?\n",
    "      * Sheet Investors"
   ]
  },
  {
   "cell_type": "markdown",
   "metadata": {},
   "source": [
    "## Feedback\n",
    "\n",
    "   * Listing Category could be shown in text vs number in ListingCategory sheet: Fixed. Created a calculated field and replaced category number with category string. It does make more sense visually now.\n",
    "   \n",
    "   * Add Estimated Return on Listing Category sheet: Fixed. Added.\n",
    "   \n",
    "   * Include PnL information: Fixed. Added Pnl Sheet.\n",
    "   \n",
    "   * Show Percentages i/o Number of Records in Occupation Sheet. Fixed\n",
    "   \n",
    "   * Remove some low number categories from PnL sheet. Fixed. Those numbers weren't adding a substantial value and were cluttering space\n",
    "   \n",
    "   * Remove low number categories from Investor sheet and add Lenders Yield to compare number of investors vs yield\n",
    "   \n",
    "   * Add income range on credit sheet."
   ]
  },
  {
   "cell_type": "markdown",
   "metadata": {},
   "source": [
    "## Resources\n",
    "\n",
    "   1. prosper loan data (attached) from https://www.google.com/url?q=https://s3.amazonaws.com/udacity-hosted-downloads/ud651/prosperLoanData.csv&sa=D&ust=1515287453772000&usg=AFQjCNH9gVD7eanzFg6VIjjDEOE4QJfEKw\n",
    "   \n",
    "   1. data dictionary (attached) from  https://www.google.com/url?q=https://docs.google.com/spreadsheet/ccc?key%3D0AllIqIyvWZdadDd5NTlqZ1pBMHlsUjdrOTZHaVBuSlE%26usp%3Dsharing&sa=D&ust=1515287453773000&usg=AFQjCNFrzH6eZAWqBCa8SiFYuNIUb6ObPQ\n",
    "   \n",
    "   1. Tableau documentation from https://www.tableau.com/support/help\n",
    "   "
   ]
  },
  {
   "cell_type": "markdown",
   "metadata": {
    "collapsed": true
   },
   "source": [
    "## Next Steps\n",
    "\n",
    "Use a deep neural net model to classify good loans from bad ones\n"
   ]
  },
  {
   "cell_type": "code",
   "execution_count": null,
   "metadata": {
    "collapsed": true
   },
   "outputs": [],
   "source": []
  }
 ],
 "metadata": {
  "kernelspec": {
   "display_name": "Python 3",
   "language": "python",
   "name": "python3"
  },
  "language_info": {
   "codemirror_mode": {
    "name": "ipython",
    "version": 3
   },
   "file_extension": ".py",
   "mimetype": "text/x-python",
   "name": "python",
   "nbconvert_exporter": "python",
   "pygments_lexer": "ipython3",
   "version": "3.6.3"
  }
 },
 "nbformat": 4,
 "nbformat_minor": 2
}
